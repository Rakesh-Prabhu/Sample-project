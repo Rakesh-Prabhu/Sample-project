{
  "nbformat": 4,
  "nbformat_minor": 0,
  "metadata": {
    "colab": {
      "provenance": [],
      "authorship_tag": "ABX9TyMlnQfOUfg8F5uBCeUCrhXR",
      "include_colab_link": true
    },
    "kernelspec": {
      "name": "python3",
      "display_name": "Python 3"
    },
    "language_info": {
      "name": "python"
    }
  },
  "cells": [
    {
      "cell_type": "markdown",
      "metadata": {
        "id": "view-in-github",
        "colab_type": "text"
      },
      "source": [
        "<a href=\"https://colab.research.google.com/github/Rakesh-Prabhu/Sample-project/blob/main/sampleproject.ipynb\" target=\"_parent\"><img src=\"https://colab.research.google.com/assets/colab-badge.svg\" alt=\"Open In Colab\"/></a>"
      ]
    },
    {
      "cell_type": "code",
      "execution_count": null,
      "metadata": {
        "id": "KNLJQfwht5vC"
      },
      "outputs": [],
      "source": [
        "import pandas as pd\n",
        "import numpy as np\n",
        "import copy"
      ]
    },
    {
      "cell_type": "code",
      "source": [
        "matrix=([112, 42, 83, 119], [56, 125, 56, 49], [15, 78, 101, 43], [62, 98, 114, 108])\n",
        "print(matrix)\n",
        "n=len(matrix)\n",
        "print(n)\n",
        "rev=[]\n",
        "reves=[]\n",
        "tot=[]\n",
        "\n",
        "rev = copy.deepcopy(matrix[::-1]) # deep creates an object....\n",
        "\n",
        "for i in range(n):\n",
        "    tot= copy.deepcopy(rev[i][2])\n",
        "    matrix[i][2]=tot\n",
        "\n",
        "for i in range(n):\n",
        "    reves.append(matrix[i][::-1])\n",
        "\n",
        "matrix=copy.deepcopy(reves)\n",
        "print(matrix)"
      ],
      "metadata": {
        "colab": {
          "base_uri": "https://localhost:8080/"
        },
        "id": "6dI4y6IZlIFx",
        "outputId": "eae4fd2f-6e1c-4fee-d936-88c9cea0545f"
      },
      "execution_count": null,
      "outputs": [
        {
          "output_type": "stream",
          "name": "stdout",
          "text": [
            "([112, 42, 83, 119], [56, 125, 56, 49], [15, 78, 101, 43], [62, 98, 114, 108])\n",
            "4\n",
            "[[119, 114, 42, 112], [49, 101, 125, 56], [43, 56, 78, 15], [108, 83, 98, 62]]\n"
          ]
        }
      ]
    }
  ]
}