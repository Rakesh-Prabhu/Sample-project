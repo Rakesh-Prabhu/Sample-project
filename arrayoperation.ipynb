{
  "nbformat": 4,
  "nbformat_minor": 0,
  "metadata": {
    "colab": {
      "provenance": [],
      "authorship_tag": "ABX9TyNlsjHoeHF4HCo4YrHs5jr7",
      "include_colab_link": true
    },
    "kernelspec": {
      "name": "python3",
      "display_name": "Python 3"
    },
    "language_info": {
      "name": "python"
    }
  },
  "cells": [
    {
      "cell_type": "markdown",
      "metadata": {
        "id": "view-in-github",
        "colab_type": "text"
      },
      "source": [
        "<a href=\"https://colab.research.google.com/github/Rakesh-Prabhu/Sample-project/blob/main/arrayoperation.ipynb\" target=\"_parent\"><img src=\"https://colab.research.google.com/assets/colab-badge.svg\" alt=\"Open In Colab\"/></a>"
      ]
    },
    {
      "cell_type": "code",
      "execution_count": 1,
      "metadata": {
        "id": "j4nk5yvLtJ_s",
        "outputId": "43587809-a3a7-4d45-eee1-81fcc7b2b14d",
        "colab": {
          "base_uri": "https://localhost:8080/"
        }
      },
      "outputs": [
        {
          "output_type": "stream",
          "name": "stdout",
          "text": [
            "1D Array: [1 2 3 4 5]\n",
            "Element-wise addition: [ 7  9 11 13 15]\n",
            "Element-wise multiplication: [ 6 14 24 36 50]\n",
            "Sum of all elements: 40\n"
          ]
        }
      ],
      "source": [
        "import numpy as np\n",
        "arr = np.array([1, 2, 3, 4, 5])\n",
        "print(\"1D Array:\", arr)\n",
        "# Element-wise addition\n",
        "arr2 = np.array([6, 7, 8, 9, 10])\n",
        "result = arr + arr2\n",
        "print(\"Element-wise addition:\", result)\n",
        "\n",
        "# Element-wise multiplication\n",
        "result = arr * arr2\n",
        "print(\"Element-wise multiplication:\", result)\n",
        "\n",
        "# Summation of all elements\n",
        "sum_result = np.sum(arr2)\n",
        "print(\"Sum of all elements:\", sum_result)"
      ]
    }
  ]
}