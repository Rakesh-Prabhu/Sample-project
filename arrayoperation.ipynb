{
  "nbformat": 4,
  "nbformat_minor": 0,
  "metadata": {
    "colab": {
      "provenance": [],
      "authorship_tag": "ABX9TyNmgKX+paIjuIF+h7PVhbNb",
      "include_colab_link": true
    },
    "kernelspec": {
      "name": "python3",
      "display_name": "Python 3"
    },
    "language_info": {
      "name": "python"
    }
  },
  "cells": [
    {
      "cell_type": "markdown",
      "metadata": {
        "id": "view-in-github",
        "colab_type": "text"
      },
      "source": [
        "<a href=\"https://colab.research.google.com/github/Rakesh-Prabhu/Sample-project/blob/main/arrayoperation.ipynb\" target=\"_parent\"><img src=\"https://colab.research.google.com/assets/colab-badge.svg\" alt=\"Open In Colab\"/></a>"
      ]
    },
    {
      "cell_type": "code",
      "source": [
        "# Array is a collection of items of the same variable type that are stored at contiguous memory locations. It is one of the most popular and simple data structures used in programming. In this article, we have decided to provide a complete guide for Arrays, which will help you to tackle any problem based on Arrays."
      ],
      "metadata": {
        "id": "k1TqS9V4vOfA"
      },
      "execution_count": 2,
      "outputs": []
    },
    {
      "cell_type": "code",
      "execution_count": 3,
      "metadata": {
        "id": "j4nk5yvLtJ_s",
        "colab": {
          "base_uri": "https://localhost:8080/"
        },
        "outputId": "6669eb3c-6bec-44c6-a423-52a8c97fdf7a"
      },
      "outputs": [
        {
          "output_type": "stream",
          "name": "stdout",
          "text": [
            "1D Array: [1 2 3 4 5]\n",
            "Element-wise addition: [ 7  9 11 13 15]\n",
            "Element-wise multiplication: [ 6 14 24 36 50]\n",
            "Sum of all elements: 40\n"
          ]
        }
      ],
      "source": [
        "import numpy as np\n",
        "arr = np.array([1, 2, 3, 4, 5])\n",
        "print(\"1D Array:\", arr)\n",
        "# Element-wise addition\n",
        "arr2 = np.array([6, 7, 8, 9, 10])\n",
        "result = arr + arr2\n",
        "print(\"Element-wise addition:\", result)\n",
        "\n",
        "# Element-wise multiplication\n",
        "result = arr * arr2\n",
        "print(\"Element-wise multiplication:\", result)\n",
        "\n",
        "# Summation of all elements\n",
        "sum_result = np.sum(arr2)\n",
        "print(\"Sum of all elements:\", sum_result)"
      ]
    }
  ]
}
